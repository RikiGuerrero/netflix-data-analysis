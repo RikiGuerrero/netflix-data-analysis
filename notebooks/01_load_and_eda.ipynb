{
 "cells": [
  {
   "cell_type": "markdown",
   "id": "b5449cdd",
   "metadata": {},
   "source": []
  }
 ],
 "metadata": {
  "language_info": {
   "name": "python"
  }
 },
 "nbformat": 4,
 "nbformat_minor": 5
}
